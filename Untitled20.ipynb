{
  "nbformat": 4,
  "nbformat_minor": 0,
  "metadata": {
    "colab": {
      "provenance": [],
      "authorship_tag": "ABX9TyM/zIEEBcVkrBzedOrp2q5J",
      "include_colab_link": true
    },
    "kernelspec": {
      "name": "python3",
      "display_name": "Python 3"
    },
    "language_info": {
      "name": "python"
    }
  },
  "cells": [
    {
      "cell_type": "markdown",
      "metadata": {
        "id": "view-in-github",
        "colab_type": "text"
      },
      "source": [
        "<a href=\"https://colab.research.google.com/github/wangberich/colab/blob/main/Untitled20.ipynb\" target=\"_parent\"><img src=\"https://colab.research.google.com/assets/colab-badge.svg\" alt=\"Open In Colab\"/></a>"
      ]
    },
    {
      "cell_type": "code",
      "execution_count": 11,
      "metadata": {
        "colab": {
          "base_uri": "https://localhost:8080/"
        },
        "id": "P5pKJAbXf7Nq",
        "outputId": "71c1d9d1-38ef-4d13-d9ef-2bb8bd336507"
      },
      "outputs": [
        {
          "output_type": "stream",
          "name": "stdout",
          "text": [
            "[0, 1]\n"
          ]
        }
      ],
      "source": [
        "nums = [2,7,11,15]\n",
        "target = 9\n",
        "\n",
        "def townumber(nums,target):\n",
        "\n",
        "   n = len(nums)\n",
        "\n",
        "   for i in range(n):\n",
        "      for j in range(i+1, n):\n",
        "         if nums[i] + nums[j] == target:\n",
        "            return [i,j]\n",
        "   return []\n",
        "\n",
        "d = townumber(nums,target)\n",
        "print(d)"
      ]
    },
    {
      "cell_type": "code",
      "source": [
        "nums = [2,7,11,15]\n",
        "target = 9\n",
        "\n",
        "\n",
        "def twoSum(nums, target):\n",
        "    n = len(nums)\n",
        "    # 遍歷所有可能的數字組合\n",
        "    for i in range(n):\n",
        "        for j in range(i+1, n):\n",
        "            # 如果找到符合條件的組合，返回它們的 index\n",
        "            if nums[i] + nums[j] == target:\n",
        "                return [i, j]\n",
        "    # 如果找不到符合條件的組合，返回空列表\n",
        "    return []\n",
        "\n",
        "d = twoSum(nums, target)\n",
        "print(d) # [0,1]\n"
      ],
      "metadata": {
        "colab": {
          "base_uri": "https://localhost:8080/"
        },
        "id": "_HY3C7X-hNkn",
        "outputId": "3b4fb0da-967f-483e-ec17-407cbc32a7cc"
      },
      "execution_count": 6,
      "outputs": [
        {
          "output_type": "stream",
          "name": "stdout",
          "text": [
            "[0, 1]\n"
          ]
        }
      ]
    }
  ]
}