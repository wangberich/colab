{
  "nbformat": 4,
  "nbformat_minor": 0,
  "metadata": {
    "colab": {
      "provenance": [],
      "authorship_tag": "ABX9TyMLuAgZy7yYZ1yIEEPeLR+E",
      "include_colab_link": true
    },
    "kernelspec": {
      "name": "python3",
      "display_name": "Python 3"
    },
    "language_info": {
      "name": "python"
    }
  },
  "cells": [
    {
      "cell_type": "markdown",
      "metadata": {
        "id": "view-in-github",
        "colab_type": "text"
      },
      "source": [
        "<a href=\"https://colab.research.google.com/github/wangberich/colab/blob/main/%E7%B6%B2%E8%B7%AF%E7%88%AC%E8%9F%B2.ipynb\" target=\"_parent\"><img src=\"https://colab.research.google.com/assets/colab-badge.svg\" alt=\"Open In Colab\"/></a>"
      ]
    },
    {
      "cell_type": "code",
      "source": [
        "import requests\n",
        "import json\n",
        "\n",
        "\n",
        "# 利用 requests 對 API 來源發送一個請求\n",
        "url = 'https://raw.githubusercontent.com/kiang/pharmacies/master/json/points.json'\n",
        "response = requests.get(url)\n",
        "\n",
        "# 將請求回應的內容存成一個字串格式\n",
        "d = response.text\n",
        "\n",
        "# 將長得像 json 格式的字串解析成字典或列表\n",
        "data = json.loads(d)\n",
        "\n",
        "print(data)"
      ],
      "metadata": {
        "colab": {
          "base_uri": "https://localhost:8080/"
        },
        "id": "uL4dNmERu039",
        "outputId": "6b399142-0ce3-4fbc-da66-abce1ce84f3f"
      },
      "execution_count": 27,
      "outputs": [
        {
          "output_type": "stream",
          "name": "stderr",
          "text": [
            "IOPub data rate exceeded.\n",
            "The notebook server will temporarily stop sending output\n",
            "to the client in order to avoid crashing it.\n",
            "To change this limit, set the config variable\n",
            "`--NotebookApp.iopub_data_rate_limit`.\n",
            "\n",
            "Current values:\n",
            "NotebookApp.iopub_data_rate_limit=1000000.0 (bytes/sec)\n",
            "NotebookApp.rate_limit_window=3.0 (secs)\n",
            "\n"
          ]
        }
      ]
    },
    {
      "cell_type": "markdown",
      "source": [],
      "metadata": {
        "id": "k9Z8vPUmhuQi"
      }
    },
    {
      "cell_type": "code",
      "source": [
        "mask_count = {}\n",
        "\n",
        "# 填入欄位名稱\n",
        "for d in data['features']:\n",
        "    county = d['properties']['county'] #取出字典的properties與county欄位\n",
        "    adult_mask_count = d['properties']['mask_adult'] #取出字典的properties與mask_adult（成人口罩) 欄位\n",
        "    if county not in mask_count:\n",
        "      mask_count[county]=adult_mask_count\n",
        "    else:\n",
        "      mask_count[county]+=adult_mask_count\n",
        "# 將結果從大到小排列\n",
        "med_count = dict(sorted(mask_count.items(), key=lambda item: item[1]))\n",
        "\n",
        "print(mask_count)\n",
        "# {'台北市': 12345, '新北市': 45678 ...}"
      ],
      "metadata": {
        "colab": {
          "base_uri": "https://localhost:8080/"
        },
        "id": "hlPt67Qrwm5u",
        "outputId": "ef21c5bd-c84b-4245-df0e-a9ad30ddab38"
      },
      "execution_count": 28,
      "outputs": [
        {
          "output_type": "stream",
          "name": "stdout",
          "text": [
            "{'臺北市': 322490, '': 69210, '高雄市': 424170, '臺中市': 536710, '臺南市': 393900, '基隆市': 80100, '新竹市': 45630, '嘉義市': 107840, '新北市': 670270, '桃園市': 331940, '新竹縣': 51350, '宜蘭縣': 106900, '苗栗縣': 131080, '彰化縣': 219400, '南投縣': 91240, '雲林縣': 196990, '嘉義縣': 113180, '屏東縣': 184250, '澎湖縣': 12600, '花蓮縣': 57330, '臺東縣': 28510, '金門縣': 15510, '連江縣': 7930}\n"
          ]
        }
      ]
    },
    {
      "cell_type": "code",
      "source": [
        "med_count = {}\n",
        "\n",
        "for d in data['features']:\n",
        "  county = d['properties']['county']\n",
        "  if county not in med_count: med_count[county] = 0\n",
        "  else: med_count[county] += 1\n",
        "\n",
        "print(med_count)"
      ],
      "metadata": {
        "colab": {
          "base_uri": "https://localhost:8080/"
        },
        "id": "GJygVbbDjj8B",
        "outputId": "86b28a74-f0c3-45e4-e315-50dd89f7ed11"
      },
      "execution_count": 29,
      "outputs": [
        {
          "output_type": "stream",
          "name": "stdout",
          "text": [
            "{'臺北市': 338, '': 48, '高雄市': 421, '臺中市': 419, '臺南市': 270, '基隆市': 56, '新竹市': 38, '嘉義市': 66, '新北市': 500, '桃園市': 263, '新竹縣': 45, '宜蘭縣': 75, '苗栗縣': 55, '彰化縣': 178, '南投縣': 66, '雲林縣': 128, '嘉義縣': 83, '屏東縣': 139, '澎湖縣': 10, '花蓮縣': 45, '臺東縣': 22, '金門縣': 5, '連江縣': 0}\n"
          ]
        }
      ]
    },
    {
      "cell_type": "code",
      "source": [
        "import sqlite3\n",
        "import datetime\n",
        "\n",
        "conn = sqlite3.connect('example.db')\n",
        "c = conn.cursor()\n",
        "\n",
        "# 新增且清空資料表\n",
        "c.execute('''CREATE TABLE IF NOT EXISTS pharmacies\n",
        "             (city text, counts text, createdAt datetime)''')\n",
        "c.execute('''DELETE FROM pharmacies''')\n",
        "conn.commit()"
      ],
      "metadata": {
        "id": "WFXGQrMvcZNd"
      },
      "execution_count": 30,
      "outputs": []
    },
    {
      "cell_type": "code",
      "source": [
        "import sqlite3\n",
        "import datetime\n",
        "\n",
        "# 建立資料庫連線\n",
        "conn = sqlite3.connect('example.db')\n",
        "c = conn.cursor()\n",
        "\n",
        "# 建立並清空資料表\n",
        "c.execute('''CREATE TABLE IF NOT EXISTS masks(city text, mask_count text, createdAt datetime)''')\n",
        "c.execute('''DELETE FROM masks''')\n",
        "conn.commit()\n",
        "\n",
        "# 將各地區口罩數量存入資料庫\n",
        "for county, count in mask_count.items():\n",
        "    # 取得當前時間\n",
        "    t = datetime.datetime.now()\n",
        "    # 將資料插入資料庫\n",
        "    c.execute(f\"INSERT INTO masks VALUES ('{county}', {count}, '{t}')\")\n",
        "    conn.commit()\n",
        "\n",
        "# 查詢並列印資料\n",
        "c.execute(\"SELECT * FROM masks\")\n",
        "print(c.fetchall())\n",
        "\n",
        "# 關閉資料庫連線\n",
        "conn.close()"
      ],
      "metadata": {
        "colab": {
          "base_uri": "https://localhost:8080/"
        },
        "id": "NdCGhouIqPMV",
        "outputId": "f06b9c04-5cfc-4851-c1f6-b1c245842460"
      },
      "execution_count": 31,
      "outputs": [
        {
          "output_type": "stream",
          "name": "stdout",
          "text": [
            "[('臺北市', '322490', '2024-05-08 14:44:14.532760'), ('', '69210', '2024-05-08 14:44:14.540051'), ('高雄市', '424170', '2024-05-08 14:44:14.546658'), ('臺中市', '536710', '2024-05-08 14:44:14.554332'), ('臺南市', '393900', '2024-05-08 14:44:14.561668'), ('基隆市', '80100', '2024-05-08 14:44:14.572239'), ('新竹市', '45630', '2024-05-08 14:44:14.584038'), ('嘉義市', '107840', '2024-05-08 14:44:14.592000'), ('新北市', '670270', '2024-05-08 14:44:14.599772'), ('桃園市', '331940', '2024-05-08 14:44:14.607543'), ('新竹縣', '51350', '2024-05-08 14:44:14.614785'), ('宜蘭縣', '106900', '2024-05-08 14:44:14.622029'), ('苗栗縣', '131080', '2024-05-08 14:44:14.629423'), ('彰化縣', '219400', '2024-05-08 14:44:14.636982'), ('南投縣', '91240', '2024-05-08 14:44:14.644113'), ('雲林縣', '196990', '2024-05-08 14:44:14.651601'), ('嘉義縣', '113180', '2024-05-08 14:44:14.659791'), ('屏東縣', '184250', '2024-05-08 14:44:14.668425'), ('澎湖縣', '12600', '2024-05-08 14:44:14.676551'), ('花蓮縣', '57330', '2024-05-08 14:44:14.685137'), ('臺東縣', '28510', '2024-05-08 14:44:14.693302'), ('金門縣', '15510', '2024-05-08 14:44:14.701766'), ('連江縣', '7930', '2024-05-08 14:44:14.710226')]\n"
          ]
        }
      ]
    },
    {
      "cell_type": "code",
      "source": [
        "import sqlite3\n",
        "import datetime\n",
        "\n",
        "# 建立資料庫連線\n",
        "conn = sqlite3.connect('example.db')\n",
        "c = conn.cursor()\n",
        "\n",
        "# 建立並清空資料表\n",
        "c.execute('''CREATE TABLE IF NOT EXISTS properties(country text, mask_count text, g6ru0 datetime)''')\n",
        "c.execute('''DELETE FROM masks''')\n",
        "conn.commit()\n",
        "\n",
        "# 將各地區口罩數量存入資料庫\n",
        "for county, count in med_count.items():\n",
        "    # 取得當前時間\n",
        "    t = datetime.datetime.now()\n",
        "    # 將資料插入資料庫\n",
        "    c.execute(f\"INSERT INTO masks VALUES ('{county}', {count}, '{t}')\")\n",
        "    conn.commit()\n",
        "\n",
        "# 查詢並列印資料\n",
        "c.execute(\"SELECT * FROM masks\")\n",
        "print(c.fetchall())\n",
        "\n",
        "# 關閉資料庫連線\n",
        "conn.close()"
      ],
      "metadata": {
        "colab": {
          "base_uri": "https://localhost:8080/"
        },
        "id": "tmSXJkjPqawU",
        "outputId": "513919cf-ff38-410c-da81-825a8b06bc4e"
      },
      "execution_count": 36,
      "outputs": [
        {
          "output_type": "stream",
          "name": "stdout",
          "text": [
            "[('臺北市', '338', '2024-05-08 14:51:55.790058'), ('', '48', '2024-05-08 14:51:55.797331'), ('高雄市', '421', '2024-05-08 14:51:55.804378'), ('臺中市', '419', '2024-05-08 14:51:55.813153'), ('臺南市', '270', '2024-05-08 14:51:55.822491'), ('基隆市', '56', '2024-05-08 14:51:55.830557'), ('新竹市', '38', '2024-05-08 14:51:55.838606'), ('嘉義市', '66', '2024-05-08 14:51:55.846590'), ('新北市', '500', '2024-05-08 14:51:55.855352'), ('桃園市', '263', '2024-05-08 14:51:55.863560'), ('新竹縣', '45', '2024-05-08 14:51:55.871156'), ('宜蘭縣', '75', '2024-05-08 14:51:55.878276'), ('苗栗縣', '55', '2024-05-08 14:51:55.886689'), ('彰化縣', '178', '2024-05-08 14:51:55.894022'), ('南投縣', '66', '2024-05-08 14:51:55.901384'), ('雲林縣', '128', '2024-05-08 14:51:55.909756'), ('嘉義縣', '83', '2024-05-08 14:51:55.918205'), ('屏東縣', '139', '2024-05-08 14:51:55.926479'), ('澎湖縣', '10', '2024-05-08 14:51:55.936062'), ('花蓮縣', '45', '2024-05-08 14:51:55.945048'), ('臺東縣', '22', '2024-05-08 14:51:55.953174'), ('金門縣', '5', '2024-05-08 14:51:55.961848'), ('連江縣', '0', '2024-05-08 14:51:55.970695')]\n"
          ]
        }
      ]
    }
  ]
}